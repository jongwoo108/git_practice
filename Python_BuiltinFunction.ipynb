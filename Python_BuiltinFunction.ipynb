{
  "nbformat": 4,
  "nbformat_minor": 0,
  "metadata": {
    "colab": {
      "provenance": []
    },
    "kernelspec": {
      "name": "python3",
      "display_name": "Python 3"
    },
    "language_info": {
      "name": "python"
    }
  },
  "cells": [
    {
      "cell_type": "markdown",
      "source": [
        "##내장 함수와 표준 라이브러리"
      ],
      "metadata": {
        "id": "7tnnSqnLEARa"
      }
    },
    {
      "cell_type": "markdown",
      "source": [
        "###내장 함수"
      ],
      "metadata": {
        "id": "errREp7REkD_"
      }
    },
    {
      "cell_type": "markdown",
      "source": [
        "print(), del()이 파이썬에 내장되어있는 내장함수이다"
      ],
      "metadata": {
        "id": "Kw6mHProEoha"
      }
    },
    {
      "cell_type": "markdown",
      "source": [
        "##type()"
      ],
      "metadata": {
        "id": "s_4tiMfPEuq_"
      }
    },
    {
      "cell_type": "markdown",
      "source": [],
      "metadata": {
        "id": "CtDAg_JPN4LY"
      }
    },
    {
      "cell_type": "code",
      "source": [
        "int_value = 42\n",
        "str_value = '42'\n",
        "print(\"int_value는 : \", type(int_value))\n",
        "print(\"str_value는 : \", type(str_value))"
      ],
      "metadata": {
        "colab": {
          "base_uri": "https://localhost:8080/"
        },
        "id": "-4k8CNenN9Nw",
        "outputId": "8d5f186a-8c75-4c58-a6b2-0e037f07cb72"
      },
      "execution_count": 1,
      "outputs": [
        {
          "output_type": "stream",
          "name": "stdout",
          "text": [
            "int_value는 :  <class 'int'>\n",
            "str_value는 :  <class 'str'>\n"
          ]
        }
      ]
    },
    {
      "cell_type": "markdown",
      "source": [
        "42와 \"42\"는 각각 int(정수형)와 str(문자열)로 타입이 다르다. 이렇게 타입을 확인할 때 사용하는 내장함수"
      ],
      "metadata": {
        "id": "cfOrIa8ROKNO"
      }
    },
    {
      "cell_type": "markdown",
      "source": [
        "##max, min"
      ],
      "metadata": {
        "id": "_5NPV5kXOV3T"
      }
    },
    {
      "cell_type": "code",
      "source": [
        "prices = [1000, 2000, 5000, 10000]\n",
        "print(\"가장 큰 값은 : \", max(prices))\n",
        "print(\"가장 작은 값은 : \", min(prices))"
      ],
      "metadata": {
        "colab": {
          "base_uri": "https://localhost:8080/"
        },
        "id": "-meeeuGXOZwQ",
        "outputId": "58adab21-759d-4ded-b999-70fb33ed602e"
      },
      "execution_count": 2,
      "outputs": [
        {
          "output_type": "stream",
          "name": "stdout",
          "text": [
            "가장 큰 값은 :  10000\n",
            "가장 작은 값은 :  1000\n"
          ]
        }
      ]
    },
    {
      "cell_type": "markdown",
      "source": [
        "## enumerate"
      ],
      "metadata": {
        "id": "QzLufytMOkf_"
      }
    },
    {
      "cell_type": "markdown",
      "source": [
        "리스트나 튜플 등에서 각 요소에 인덱스와 값을 포함하는 객체로 생성할 수 있다.\n",
        "\n",
        "각 요소 뿐만 아니라 인덱스도 필요한 상황에서 사용하는 함수이다."
      ],
      "metadata": {
        "id": "rsB1DiBtOtKk"
      }
    },
    {
      "cell_type": "code",
      "source": [
        "enumerater(리스트 or 튜플 등, start = 0)"
      ],
      "metadata": {
        "id": "QfguFfKeR1p1"
      },
      "execution_count": null,
      "outputs": []
    },
    {
      "cell_type": "markdown",
      "source": [
        "기존 for문을 사용하듯 사용할 수 있다.\n",
        "\n",
        "단순 for문에서 product의 각 요솟값만 가져왔다면, 이번에는 인덱스 값까지 가져오는 것이 enumerate이다."
      ],
      "metadata": {
        "id": "9cDNZ5aySM70"
      }
    },
    {
      "cell_type": "code",
      "source": [
        "products = ['콜라', '사이다', '과자']\n",
        "for product in enumerate(products, start = 1):\n",
        "    print(product)"
      ],
      "metadata": {
        "colab": {
          "base_uri": "https://localhost:8080/"
        },
        "id": "o603pFCZSWX_",
        "outputId": "8b789c3d-595b-4a35-c742-49767d8efeff"
      },
      "execution_count": 3,
      "outputs": [
        {
          "output_type": "stream",
          "name": "stdout",
          "text": [
            "(1, '콜라')\n",
            "(2, '사이다')\n",
            "(3, '과자')\n"
          ]
        }
      ]
    },
    {
      "cell_type": "code",
      "source": [
        "products = ['콜라', '사이다', '과자']\n",
        "for idx, product in enumerate(products, start = 1):\n",
        "    print(f\"순서 {idx}: {product}\")"
      ],
      "metadata": {
        "colab": {
          "base_uri": "https://localhost:8080/"
        },
        "id": "iH6LElsHTA07",
        "outputId": "cf6497f6-b681-4129-b0c0-084dbe7c0082"
      },
      "execution_count": 5,
      "outputs": [
        {
          "output_type": "stream",
          "name": "stdout",
          "text": [
            "순서 1: 콜라\n",
            "순서 2: 사이다\n",
            "순서 3: 과자\n"
          ]
        }
      ]
    },
    {
      "cell_type": "markdown",
      "source": [
        "위와 같이 enumerate는 for 인덱스, 요소 in enumerate 형태로 많이 사용하며, \\\n",
        "\n",
        "인덱스와 요소를 한꺼번에 처리할 수 있다는 장점이 있다."
      ],
      "metadata": {
        "id": "kyFvwSHpS1ec"
      }
    },
    {
      "cell_type": "markdown",
      "source": [
        "##sorted"
      ],
      "metadata": {
        "id": "wikegg80TTEN"
      }
    },
    {
      "cell_type": "markdown",
      "source": [
        "리스트나 튜플, 딕셔너리 등을 key 값을 기준으로 정렬할 수 있다.\n",
        "\n",
        "이때 key값을 어떻게 설정하느냐에 따라 정렬이 달라질 수 있으므로 원하는 형식에 맞춰 코드를 작성해야 한다."
      ],
      "metadata": {
        "id": "pDwkmZFHTZe0"
      }
    },
    {
      "cell_type": "code",
      "source": [
        "sorted(iterable, key=None, reverse = False)"
      ],
      "metadata": {
        "id": "f0hb4aH2U0-B"
      },
      "execution_count": null,
      "outputs": []
    },
    {
      "cell_type": "markdown",
      "source": [
        "products 리스트에 튜플 형태로 되어 있는 데이터를 저장해 두었다.\n",
        "\n",
        "만약 숫자를 기준으로 정렬하려면 key에 x[0]를 기준으로 정렬하면 된다.\n",
        "\n",
        "물건 목록을 기준으로 정렬하려면 x[1]을 기준으로 정렬할 수 있다."
      ],
      "metadata": {
        "id": "IMErgnWPTicE"
      }
    },
    {
      "cell_type": "code",
      "source": [
        "products = [(2, \"콜라\"), (3, \"사이다\"), (1, \"과자\")]\n",
        "sorted_prd_0 = sorted(products, key = lambda x: x[0])\n",
        "sorted_prd_1 = sorted(products, key = lambda x: x[1])\n",
        "print(sorted_prd_0)\n",
        "print(sorted_prd_1)"
      ],
      "metadata": {
        "colab": {
          "base_uri": "https://localhost:8080/"
        },
        "id": "gjHEcmeeUx7j",
        "outputId": "28d5b95b-c937-4c53-92af-5cea03e46f5f"
      },
      "execution_count": 6,
      "outputs": [
        {
          "output_type": "stream",
          "name": "stdout",
          "text": [
            "[(1, '과자'), (2, '콜라'), (3, '사이다')]\n",
            "[(1, '과자'), (3, '사이다'), (2, '콜라')]\n"
          ]
        }
      ]
    },
    {
      "cell_type": "markdown",
      "source": [
        "sorted_prd_0은 튜플이 첫 번째 값을 기준으로 정렬한 결과이므로 1, 2, 3의 순서로 정렬되었다.\n",
        "\n",
        "sorted_prd_1은 두 번째 값을 기준으로 정렬한 결과로 두 번째 문자열 기준으로 과자, 사이다, 콜라 순서로 정렬되었다.\n",
        "\n",
        "이렇게 기본 정렬뿐만 아니라 여러 개의 값을 가지고 있는 리스트를 정렬하고자 할 때 sorted를 사용할 수 있다."
      ],
      "metadata": {
        "id": "alZUM_1dVLlo"
      }
    },
    {
      "cell_type": "markdown",
      "source": [
        "## map"
      ],
      "metadata": {
        "id": "ftn7coX2Vh5f"
      }
    },
    {
      "cell_type": "markdown",
      "source": [
        "헤이마트의 물건 가격을 전체적으로 10% 인상해야 하는 상황에 놓였을 때와 같이 리스트의 전체 요소들을 한꺼번에 적용해야 하는 경우가 있다.\n",
        "\n",
        "이때 for문을 이용해 새로운 리스트를 만든 후 각 요소를 변환시키고 다시 append하여 완성했다.\n",
        "\n",
        "하지만 map 함수를 사용해 전체 가격을 쉽게 업데이트할 수 있다."
      ],
      "metadata": {
        "id": "M-SYH6n3Vk65"
      }
    },
    {
      "cell_type": "code",
      "source": [
        "map(function, iterable, ...)"
      ],
      "metadata": {
        "id": "550gnnxIV65f"
      },
      "execution_count": null,
      "outputs": []
    },
    {
      "cell_type": "markdown",
      "source": [
        "예를 들어 원래 가격표가 1600, 1600, 1500원인 명단이 있다.\n",
        "\n",
        "이 가격들을 for문을 이용한 방법과 map 함수를 이용한 방법으로 10% 인상한 가격 리스트로 업데이트해 보고 그 차이를 비교해본다."
      ],
      "metadata": {
        "id": "cumvRlKAVz5A"
      }
    },
    {
      "cell_type": "code",
      "source": [
        "prices = [1600, 1600, 1500]\n",
        "#for 문을 이용한 방법\n",
        "prices_up_for = []\n",
        "for price in prices:\n",
        "    new_price = int(price * 1.1) #10퍼센트 상승이므로, 1.1 곱하기\n",
        "    prices_up_for.append(new_price)\n",
        "\n",
        "#map 함수를 이용한 방법\n",
        "prices_up_map = list(map(lambda x: int(x*1.1), prices)) # 10퍼센트 상승이므로, 1.1 곱하기\n",
        "print(prices_up_for)\n",
        "print(prices_up_map)\n"
      ],
      "metadata": {
        "colab": {
          "base_uri": "https://localhost:8080/"
        },
        "id": "iXXCl1EcWQTQ",
        "outputId": "b4d6643c-5f57-4f58-b0f6-bfb05480cb96"
      },
      "execution_count": 7,
      "outputs": [
        {
          "output_type": "stream",
          "name": "stdout",
          "text": [
            "[1760, 1760, 1650]\n",
            "[1760, 1760, 1650]\n"
          ]
        }
      ]
    },
    {
      "cell_type": "markdown",
      "source": [
        "map 함수를 이용하면 for문을 이용해 하나씩 반환해서 넣어야 하는 것을 쉽게 일괄 처리할 수 있다.\n",
        "\n",
        "이 밖에 파이썬의 판다스와 같은 데이터 프레임에도 많이 쓰이는 함수이다."
      ],
      "metadata": {
        "id": "W5gZb_ynXC5v"
      }
    },
    {
      "cell_type": "markdown",
      "source": [
        "이 밖에 다른 내장 함수들은 파이썬 기본 문서를 참고한다.\n",
        "\n",
        "https://docs.python.org/ko/3/library/functions.html"
      ],
      "metadata": {
        "id": "aWni4CyaXfTX"
      }
    },
    {
      "cell_type": "code",
      "source": [],
      "metadata": {
        "id": "3ziy7frMXl2l"
      },
      "execution_count": null,
      "outputs": []
    }
  ]
}