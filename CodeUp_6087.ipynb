{
  "nbformat": 4,
  "nbformat_minor": 0,
  "metadata": {
    "colab": {
      "provenance": []
    },
    "kernelspec": {
      "name": "python3",
      "display_name": "Python 3"
    },
    "language_info": {
      "name": "python"
    }
  },
  "cells": [
    {
      "cell_type": "code",
      "source": [
        "# 1부터 입력한 정수까지 1씩 증가시켜 출력하는 프로그램을 작성하되,\n",
        "# 3의 배수인 경우는 출력하지 않도록 만들어보자.\n",
        "\n",
        "n = int(input())\n",
        "\n",
        "for i in range(1, n+1): #반복을 돌리자, i 가 range 범위 안에 있을때\n",
        "    if i % 3 == 0:      #만약에 i를 3으로 나눈 나머지가 0이면\n",
        "        continue        #넘어가자\n",
        "    # i += 1              #i는 계속 1씩 더해간다.\n",
        "    print(i, end=' ')    #i를 출력하되, 공백으로 이어준다.\n"
      ],
      "metadata": {
        "colab": {
          "base_uri": "https://localhost:8080/"
        },
        "id": "Zo0hw4Xy0v_p",
        "outputId": "a7054da5-6dd8-48ee-a259-50015bea4ea6"
      },
      "execution_count": 16,
      "outputs": [
        {
          "output_type": "stream",
          "name": "stdout",
          "text": [
            "10\n",
            "1 2 4 5 7 8 10 "
          ]
        }
      ]
    },
    {
      "cell_type": "code",
      "source": [],
      "metadata": {
        "id": "NOw25oPv2aRj"
      },
      "execution_count": null,
      "outputs": []
    }
  ]
}