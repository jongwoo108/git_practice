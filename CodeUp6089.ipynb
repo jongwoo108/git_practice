{
  "nbformat": 4,
  "nbformat_minor": 0,
  "metadata": {
    "colab": {
      "provenance": []
    },
    "kernelspec": {
      "name": "python3",
      "display_name": "Python 3"
    },
    "language_info": {
      "name": "python"
    }
  },
  "cells": [
    {
      "cell_type": "code",
      "execution_count": null,
      "metadata": {
        "id": "INKEnYrr_njc"
      },
      "outputs": [],
      "source": [
        "#등비수열\n",
        "# 시작값 a 등비 r 몇번째 n\n",
        "\n",
        "# n번째 수를 출력하라"
      ]
    },
    {
      "cell_type": "code",
      "source": [
        "a, r, n = input().split()\n",
        "a = int(a)\n",
        "r = int(r)\n",
        "n = int(n)\n",
        "\n",
        "x = a * r**(n-1)\n",
        "\n",
        "print(x)"
      ],
      "metadata": {
        "colab": {
          "base_uri": "https://localhost:8080/"
        },
        "id": "BbSg3EFtAlJV",
        "outputId": "522b1868-5704-487a-e0e5-1b074aa69c8b"
      },
      "execution_count": 2,
      "outputs": [
        {
          "output_type": "stream",
          "name": "stdout",
          "text": [
            "2 3 7\n",
            "1458\n"
          ]
        }
      ]
    },
    {
      "cell_type": "code",
      "source": [],
      "metadata": {
        "id": "HN0R4q1yB7vf"
      },
      "execution_count": null,
      "outputs": []
    }
  ]
}