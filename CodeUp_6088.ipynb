{
  "nbformat": 4,
  "nbformat_minor": 0,
  "metadata": {
    "colab": {
      "provenance": []
    },
    "kernelspec": {
      "name": "python3",
      "display_name": "Python 3"
    },
    "language_info": {
      "name": "python"
    }
  },
  "cells": [
    {
      "cell_type": "code",
      "source": [
        "a, d, n = input().split()\n",
        "\n",
        "a = int(a)\n",
        "d = int(d)\n",
        "n = int(n)\n",
        "\n",
        "# n번째 수의 값 구하기\n",
        "# n번째 수의 값 == a + d*(n-1)\n",
        "\n",
        "x = a + d*(n-1)\n",
        "print(x)"
      ],
      "metadata": {
        "colab": {
          "base_uri": "https://localhost:8080/"
        },
        "id": "qZV0SOh2zhiT",
        "outputId": "831a40e0-a05e-4898-b544-4b6f2772978c"
      },
      "execution_count": 13,
      "outputs": [
        {
          "output_type": "stream",
          "name": "stdout",
          "text": [
            "1 3 5\n",
            "13\n"
          ]
        }
      ]
    },
    {
      "cell_type": "code",
      "source": [],
      "metadata": {
        "id": "XF5ePBou0qrW"
      },
      "execution_count": null,
      "outputs": []
    }
  ]
}