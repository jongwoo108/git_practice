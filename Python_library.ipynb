{
  "nbformat": 4,
  "nbformat_minor": 0,
  "metadata": {
    "colab": {
      "provenance": []
    },
    "kernelspec": {
      "name": "python3",
      "display_name": "Python 3"
    },
    "language_info": {
      "name": "python"
    }
  },
  "cells": [
    {
      "cell_type": "markdown",
      "source": [
        "## 표준 라이브러리"
      ],
      "metadata": {
        "id": "Tw3NnbCLCkAQ"
      }
    },
    {
      "cell_type": "markdown",
      "source": [
        "### random"
      ],
      "metadata": {
        "id": "NXi9aru0Cmq8"
      }
    },
    {
      "cell_type": "markdown",
      "source": [
        "random 함수는 난수 생성 및 관련 함수를 제공하는 모듈이다.\n",
        "\n",
        "특정 범위의 정수나 소수를 가져올 수 있다. 리스트에서 무작위로 선택하는 것도 가능하며, 리스트 요소를 무작위로 섞을 수 있다."
      ],
      "metadata": {
        "id": "PMPMtagTCsqC"
      }
    },
    {
      "cell_type": "code",
      "source": [
        "import random\n",
        "#정수 난수 가져오기\n",
        "\n",
        "random_int = random.randint(1, 10)\n",
        "print(\"정수 난수 가져오기 : \", random_int)\n",
        "#소수 난수 가져오기\n",
        "random_float = random.random()\n",
        "print(\"소수 난수 가져오기 : \", random_float)"
      ],
      "metadata": {
        "colab": {
          "base_uri": "https://localhost:8080/"
        },
        "id": "vcjNluOuC3R5",
        "outputId": "748c260f-e9d3-4418-a9db-d398d87589fa"
      },
      "execution_count": 1,
      "outputs": [
        {
          "output_type": "stream",
          "name": "stdout",
          "text": [
            "정수 난수 가져오기 :  6\n",
            "소수 난수 가져오기 :  0.5493354042992602\n"
          ]
        }
      ]
    },
    {
      "cell_type": "markdown",
      "source": [
        "### 랜덤 섞기 및 선택"
      ],
      "metadata": {
        "id": "v7DNc0N9DMfL"
      }
    },
    {
      "cell_type": "markdown",
      "source": [
        "shuffle은 리스트를 무작위로 섞는 함수이다. 기존의 리스트를 랜덤으로 섞는다.\n",
        "\n",
        "choice는 리스트 안의 요소를 무작위로 선택하여 반환한다. 경품 추첨이나 당첨자 선택에 유용하게 쓰이는 함수이다."
      ],
      "metadata": {
        "id": "4Der3MFVDTje"
      }
    },
    {
      "cell_type": "code",
      "source": [
        "import random\n",
        "products = ['자전거', '과자', '샴푸', '음료수']\n",
        "#랜덤으로 섞기\n",
        "random.shuffle(products)\n",
        "print('무작위로 섞인 리스트 : ', products)\n",
        "\n",
        "#랜덤으로 선택하기\n",
        "random_product = random.choice(products)\n",
        "print('무작위로 선택 : ', random_product)"
      ],
      "metadata": {
        "colab": {
          "base_uri": "https://localhost:8080/"
        },
        "id": "G3Xdp5-qDfFD",
        "outputId": "8ddc0147-d3a2-472a-b5bc-c7b04f555a7a"
      },
      "execution_count": 2,
      "outputs": [
        {
          "output_type": "stream",
          "name": "stdout",
          "text": [
            "무작위로 섞인 리스트 :  ['음료수', '샴푸', '자전거', '과자']\n",
            "무작위로 선택 :  과자\n"
          ]
        }
      ]
    },
    {
      "cell_type": "markdown",
      "source": [
        "datetime"
      ],
      "metadata": {
        "id": "LbAba_2qECXE"
      }
    },
    {
      "cell_type": "markdown",
      "source": [
        "시간 관련 모듈, 날짜, 시간에 관련된 다양한 클래스와 함수가 있다."
      ],
      "metadata": {
        "id": "JpU23uU1Fp5R"
      }
    },
    {
      "cell_type": "code",
      "source": [
        "from datetime import datetime\n",
        "current_datetime = datetime.now()\n",
        "print(\"현재 날짜와 시간:\", current_datetime)"
      ],
      "metadata": {
        "colab": {
          "base_uri": "https://localhost:8080/"
        },
        "id": "weeij51YFy-j",
        "outputId": "f070b262-68f5-4759-a40d-52c0c2c2ffac"
      },
      "execution_count": 4,
      "outputs": [
        {
          "output_type": "stream",
          "name": "stdout",
          "text": [
            "현재 날짜와 시간: 2024-08-11 06:19:51.924102\n"
          ]
        }
      ]
    },
    {
      "cell_type": "markdown",
      "source": [
        "날짜 포맷팅"
      ],
      "metadata": {
        "id": "xUOlSTr4F5Ac"
      }
    },
    {
      "cell_type": "markdown",
      "source": [
        "날짜 및 시간 데이터는 strtime을 통해 다룰 수 있다.\n",
        "\n",
        "strtime을 이용해서 %Y에는 연도, %m은 월, %d는 일, %H, %M, %S는 각각 시간, 분, 초로 그 값을 가져올 수 있다.\n",
        "\n",
        "날짜 및 시간의 형태를 다르게 표현하고자 할 때 편리하게 이용할 수 있다."
      ],
      "metadata": {
        "id": "CCRfG4XlGG7k"
      }
    },
    {
      "cell_type": "code",
      "source": [
        "from datetime import datetime\n",
        "current_datetime = datetime.now()\n",
        "formatted_now = current_datetime.strftime(\"%Y-%m-%d %H:%M:%S\")\n",
        "print(current_datetime)\n",
        "print(\"현재 날짜 및 시간(형식 지정):\", formatted_now)"
      ],
      "metadata": {
        "colab": {
          "base_uri": "https://localhost:8080/"
        },
        "id": "4TfnUGSlGX9M",
        "outputId": "5842dd3e-5af1-42e6-aa05-e1129153576d"
      },
      "execution_count": 6,
      "outputs": [
        {
          "output_type": "stream",
          "name": "stdout",
          "text": [
            "2024-08-11 06:23:11.231738\n",
            "현재 날짜 및 시간(형식 지정): 2024-08-11 06:23:11\n"
          ]
        }
      ]
    },
    {
      "cell_type": "markdown",
      "source": [
        "날짜 계산"
      ],
      "metadata": {
        "id": "3gIx5omPGkCc"
      }
    },
    {
      "cell_type": "markdown",
      "source": [
        "특정 날짜와 특정 날짜 사이의 기간을 계산하려고 할 때는 두 날짜를 빼면 된다."
      ],
      "metadata": {
        "id": "ZpcSxZ2uG9FE"
      }
    },
    {
      "cell_type": "code",
      "source": [
        "from datetime import datetime, timedelta\n",
        "#크리스마스 날짜 생성\n",
        "christmas = datetime(2023, 12, 25)\n",
        "#특정 날짜 생성\n",
        "days_ago = datetime(2023, 9, 16)\n",
        "#두 날짜 사이의 기간 계산\n",
        "between_days = christmas - days_ago\n",
        "#크리스마스로부터 50일 전 계산\n",
        "fifty_days_ago = christmas - timedelta(days=50)\n",
        "\n",
        "print('크리스마스', christmas)\n",
        "print('두 날짜 사이의 간격 :', between_days.days)\n",
        "print('크리스마스로부터 50일 전 :', fifty_days_ago)"
      ],
      "metadata": {
        "colab": {
          "base_uri": "https://localhost:8080/"
        },
        "id": "ZbUEiz83HA6r",
        "outputId": "f0f933ab-8031-4de7-bd66-753b9117e21a"
      },
      "execution_count": 8,
      "outputs": [
        {
          "output_type": "stream",
          "name": "stdout",
          "text": [
            "크리스마스 2023-12-25 00:00:00\n",
            "두 날짜 사이의 간격 : 100\n",
            "크리스마스로부터 50일 전 : 2023-11-05 00:00:00\n"
          ]
        }
      ]
    },
    {
      "cell_type": "markdown",
      "source": [
        "glob"
      ],
      "metadata": {
        "id": "0Z-8PSaSH1Gb"
      }
    },
    {
      "cell_type": "markdown",
      "source": [
        "파이썬에서 디렉터리를 관리할 때 사용하는 함수.\n",
        "\n",
        "디렉터리에서 원하는 파일 목록을 가져올 때 유용하다.\n",
        "\n",
        "파일 목록을 '*.확장자'의 형태로 가져올 수 있다."
      ],
      "metadata": {
        "id": "n3sxJ3NAIyOU"
      }
    },
    {
      "cell_type": "code",
      "source": [
        "import glob\n",
        "#현재 디렉터리에서 모든 파일 목록 얻기\n",
        "all_files = glob.glob('*')\n",
        "#현재 디렉터리에서 확장자가 .txt인 파일 목록 얻기\n",
        "txt_files = glob.glob('*.txt')\n",
        "print(\"모든 파일 목록: \", all_files)\n",
        "print(\"txt 파일 목록:\", txt_files)"
      ],
      "metadata": {
        "colab": {
          "base_uri": "https://localhost:8080/"
        },
        "id": "NtuO2QWWI8hj",
        "outputId": "d836a3af-de4e-451d-ce6a-af0cd01703f0"
      },
      "execution_count": 9,
      "outputs": [
        {
          "output_type": "stream",
          "name": "stdout",
          "text": [
            "모든 파일 목록:  ['sample_data']\n",
            "txt 파일 목록: []\n"
          ]
        }
      ]
    },
    {
      "cell_type": "markdown",
      "source": [
        "pickle"
      ],
      "metadata": {
        "id": "rkHLrD-hJn4j"
      }
    },
    {
      "cell_type": "markdown",
      "source": [
        "파이썬에서 객체를 그대로 저장하는 기능."
      ],
      "metadata": {
        "id": "_IEuh5XQJuc7"
      }
    },
    {
      "cell_type": "code",
      "source": [
        "import pickle\n",
        "\n",
        "# 저장할 객체 생성\n",
        "data_to_save = {'콜라': 1600, '사이다': 1500, '생수': 1000}\n",
        "# 객체를 파일에 저장\n",
        "with open('data.pkl', 'wb') as file:\n",
        "    pickle.dump(data_to_save, file)"
      ],
      "metadata": {
        "id": "yYqjqkEYJzDr"
      },
      "execution_count": 10,
      "outputs": []
    },
    {
      "cell_type": "markdown",
      "source": [
        "data_to_save 딕셔너리를 피클로 저장할 수 있다.\n",
        "\n",
        "그리고 이렇게 저장한 것은 다시 로드해서 그대로 사용할 수 있다."
      ],
      "metadata": {
        "id": "ssDxs2_qKIyc"
      }
    },
    {
      "cell_type": "code",
      "source": [
        "with open('data.pkl', 'rb') as file:\n",
        "    loaded_data = pickle.load(file)\n",
        "\n",
        "print(\"로드된 데이터:\", loaded_data)"
      ],
      "metadata": {
        "colab": {
          "base_uri": "https://localhost:8080/"
        },
        "id": "YEXOMtLNKXzk",
        "outputId": "39ff1c36-f0e0-4361-ab36-3f2c82ba5968"
      },
      "execution_count": 11,
      "outputs": [
        {
          "output_type": "stream",
          "name": "stdout",
          "text": [
            "로드된 데이터: {'콜라': 1600, '사이다': 1500, '생수': 1000}\n"
          ]
        }
      ]
    },
    {
      "cell_type": "markdown",
      "source": [
        "JSON(JavaScript Object Notation)"
      ],
      "metadata": {
        "id": "R2zXOCEEKhW8"
      }
    },
    {
      "cell_type": "markdown",
      "source": [
        "기본적인 JSON 파일 형태.\n",
        "\n",
        "중괄호로 둘러싸인 데이터 형식.\n",
        "\n",
        "각각 키-값의 쌍으로 되어 있는 문자열 데이터의 형태이다."
      ],
      "metadata": {
        "id": "7athcDlTMiBZ"
      }
    },
    {
      "cell_type": "code",
      "source": [
        "{\n",
        "    \"고객정보\":[\n",
        "        {\n",
        "            \"name\" : \"김마트\",\n",
        "            \"age\" : 25,\n",
        "            \"phone\" : \"010-0000-0000\"\n",
        "        }\n",
        "    ],\n",
        "    \"물품정보\":{\n",
        "        \"콜라\":{\n",
        "            \"가격\": 1600,\n",
        "            \"수량\": 10\n",
        "        },\n",
        "        \"생수\": {\n",
        "            \"가격\" : 1000,\n",
        "            \"수량\" : 20\n",
        "        }\n",
        "    }\n",
        "}"
      ],
      "metadata": {
        "colab": {
          "base_uri": "https://localhost:8080/"
        },
        "id": "Vkp4hlJOMfDp",
        "outputId": "5dbe7ed6-f000-4d48-97de-a0adb951fa04"
      },
      "execution_count": 1,
      "outputs": [
        {
          "output_type": "execute_result",
          "data": {
            "text/plain": [
              "{'고객정보': [{'name': '김마트', 'age': 25, 'phone': '010-0000-0000'}],\n",
              " '물품정보': {'콜라': {'가격': 1600, '수량': 10}, '생수': {'가격': 1000, '수량': 20}}}"
            ]
          },
          "metadata": {},
          "execution_count": 1
        }
      ]
    },
    {
      "cell_type": "markdown",
      "source": [
        "위 JSON 데이터는 고객 정보 key 값에 리스트 값을 value로 가지게 된다.\n",
        "\n",
        "그리고 물품 정보에는 딕셔너리를 value로 가지게 된다.\n",
        "\n",
        "이렇게 다양한 데이터를 key, value의 형태로 주어지게 되어 필요한 정보를 다룰 수 있게 된다.\n",
        "\n",
        "기본적으로 JSON 형태의 문자열 데이터로 파이썬 딕셔너리처럼 보이지만 문자열이다.\n",
        "\n",
        "따라서 파이썬에서 딕셔너리처럼 사용하려면 JSON 형태의 문자열을 파이썬 딕셔너리 데이터로 변환해야 한다.\n",
        "\n",
        "그리고 필요에 따라 딕셔너리를 JSON 문자열 데이터로 변환할 수 있다."
      ],
      "metadata": {
        "id": "6Lnr4WMxNJr9"
      }
    },
    {
      "cell_type": "code",
      "source": [
        "import json\n",
        "\n",
        "#파이썬 딕셔너리를 JSON 문자열로 변환\n",
        "data = {'콜라':1600, '사이다':1500, '생수':1000}\n",
        "json_data = json.dumps(data, ensure_ascii = False)\n",
        "decoded_data = json.loads(json_data)\n",
        "\n",
        "print(\"인코딩:\", json_data)\n",
        "print(\"디코딩:\", decoded_data)"
      ],
      "metadata": {
        "colab": {
          "base_uri": "https://localhost:8080/"
        },
        "id": "RhnV6X79N3pC",
        "outputId": "2a608686-d1ce-41b6-ccb4-9394b623bcf2"
      },
      "execution_count": 16,
      "outputs": [
        {
          "output_type": "stream",
          "name": "stdout",
          "text": [
            "인코딩: {\"콜라\": 1600, \"사이다\": 1500, \"생수\": 1000}\n",
            "디코딩: {'콜라': 1600, '사이다': 1500, '생수': 1000}\n"
          ]
        }
      ]
    },
    {
      "cell_type": "markdown",
      "source": [
        "json.dumps(data) 함수는 파이썬의 딕셔너리 데이터를 JSON 파일 형식의 문자열로 변환한다.\n",
        "\n",
        "이때 ensure_asscii = False로 지정하면 문자를 그대로 유지할 수 있도록 설정한다.\n",
        "\n",
        "json.loads(json_data)는 JSON 파일 형식을 불러들여 파이썬 딕셔너리로 변환하는 역할을 한다.\n",
        "\n",
        "이렇게 딕셔너리를 문자열로 변환하는 것을 '인코딩'이고, 문자열 데이터를 딕셔너리로 변환하는 것을 '디코딩'이라고 한다."
      ],
      "metadata": {
        "id": "u1Vg4SH0ONH7"
      }
    },
    {
      "cell_type": "markdown",
      "source": [
        "파이썬 객체 저장 및 JSON 파일 로드"
      ],
      "metadata": {
        "id": "-uHkr7xrO-x8"
      }
    },
    {
      "cell_type": "markdown",
      "source": [
        "파이썬 객체를 JSON 파일로 저장하고 with open()을 통해 data.json파일을 쓰기 모드로 열게 된다.\n",
        "\n",
        "그리고 json.dump(data, file)을 통해 data 변수에 할당되어 있는 딕셔너리를 json.dump()를\n",
        "\n",
        "통해 JSON 파일 형식으로 변환하여 파일에 쓰게 된다.\n",
        "\n",
        "이렇게 data.json 파일이 생성되고 딕셔너리가 JSON 파일 형식으로 저장된다.\n",
        "\n",
        " json.load(file)을 통해 저장되어 있는 JSON 파일을 읽어올 수 있다."
      ],
      "metadata": {
        "id": "8_b-znHKSYZv"
      }
    },
    {
      "cell_type": "code",
      "source": [
        "import json\n",
        "#파이썬 객체를 파일에 json 형식으로 저장\n",
        "\n",
        "data = {'콜라': 1600, '사이다': 1500, '생수': 1000}\n",
        "with open('data.json', 'w') as file:\n",
        "    json.dump(data, file)\n",
        "\n",
        "#파일에서 json 데이터를 읽어와 파이썬 객체로 디코딩\n",
        "with open('data.json', 'r') as file:\n",
        "    loaded_data = json.load(file)\n",
        "\n",
        "print('로드된 파이썬 객체:', loaded_data)\n"
      ],
      "metadata": {
        "colab": {
          "base_uri": "https://localhost:8080/"
        },
        "id": "XZ90KAqaSs69",
        "outputId": "e7848e9c-0cdb-470c-9e4f-8d6d5c74b204"
      },
      "execution_count": 17,
      "outputs": [
        {
          "output_type": "stream",
          "name": "stdout",
          "text": [
            "로드된 파이썬 객체: {'콜라': 1600, '사이다': 1500, '생수': 1000}\n"
          ]
        }
      ]
    },
    {
      "cell_type": "markdown",
      "source": [
        "## re"
      ],
      "metadata": {
        "id": "7VwgcEiZTMHd"
      }
    },
    {
      "cell_type": "markdown",
      "source": [
        "re는 정규 표현식(Regular Expression)을 지원하는 모듈로,\n",
        "\n",
        "문자열에서 패턴을 찾거나 조작하는데 사용된다.\n",
        "\n",
        "대표적으로 re.match, re.search, re.findall, re.sub 함수가 많이 사용된다.\n",
        "\n",
        "re 모듈을 사용하기에 앞서 정규 표현식에 대해 알아야 re를 제대로 사용할 수 있다."
      ],
      "metadata": {
        "id": "Mcr4M64QTTyN"
      }
    },
    {
      "cell_type": "markdown",
      "source": [
        "정규표현식\n",
        "\n",
        "정규 표현식은 특정한 규칙을 가진 문자열의 패턴을 표현하는 데 사용되며\n",
        "\n",
        "문자열에서 원하는 정보를 추출하거나 검색하는 데 유용하다.\n",
        "\n",
        "정규 표현식의 기본 문법은 크게 패턴 그대로 매칭하는 방법,\n",
        "\n",
        "특별한 의미를 가진 메타 문자를 활용하여 패턴을 매칭하는 방법,\n",
        "\n",
        "특정 패턴의 앞이나 뒤에 조건을 지정하여 매치하는 방법으로 나눌 수 있다."
      ],
      "metadata": {
        "id": "5DHsBsWVTooz"
      }
    },
    {
      "cell_type": "markdown",
      "source": [
        "^x 문자열 시작을 나타내며 문자 x로 시작되는 것을 의미한다.\n",
        "\n",
        "^$ 문자열의 끝을 나타내며 문자 x로 끝나는 것을 의미한다.\n",
        "\n",
        ".x 임의의 한 문자의 자릿수를 표현하며 문자열이 x로 끝나는 것을 의미한다.\n",
        "\n",
        "X+ 문자가 한 번 이상 반복되는 것을 의미한다.\n",
        "\n",
        "X? 문자의 존재 여부를 나타내며 문자가 존재할 수도, 존재하지 않을 수도 있다는 것을 의미한다.\n",
        "\n",
        "X* 문자가 0번 또는 그 이상 반복되는 것을 의미한다."
      ],
      "metadata": {
        "id": "WliiXkwaT8NF"
      }
    },
    {
      "cell_type": "markdown",
      "source": [
        "정규 표현식에서 많이 쓰이는 함수"
      ],
      "metadata": {
        "id": "6hU89wkCUar1"
      }
    },
    {
      "cell_type": "markdown",
      "source": [
        "re.match(pattern, string) 문자열의 시작 부분부터 패턴이 일치하는지 검사한다.\n",
        "\n",
        "re.search(pattern, string) 문자열 전체에서 패턴이 일치하는 부분이 있는지 검사한다.\n",
        "\n",
        "re.findall(pattern, string) 문자열에서 패턴과 일치하는 모든 부분을 찾아 리스트로 반환한다.\n",
        "\n",
        "re.sub(pattern, repl, string) 문자열에서 패턴과 일치하는 부분을 다른 문자열로 대체한다."
      ],
      "metadata": {
        "id": "lFxUDQi7XLL3"
      }
    },
    {
      "cell_type": "markdown",
      "source": [
        "re.match\n",
        "\n",
        "헤이마트의 상품들은 각각의 고유 코드를 가지고 있다.\n",
        "\n",
        "각각의 고유 코드를 저장한 문서에서 찾고자 하는 상품을 검색해 보려고 할 때\n",
        "\n",
        "고유 코드들의 패턴을 나누어서 관리한다면 편리할 수 있다.\n",
        "\n",
        "예를들어 과자가 snack_1234와 같은 snack으로 분류된 코드를 가지고 있다면, 찾을 때 편리할 수 있다."
      ],
      "metadata": {
        "id": "IWEOfV8xXfCm"
      }
    },
    {
      "cell_type": "code",
      "source": [
        "import re\n",
        "product_code = 'snack_1234'\n",
        "\n",
        "if re.match('^snack_\\d{4}$', product_code):\n",
        "    print('유효한 상품 코드입니다.')\n",
        "\n",
        "else:\n",
        "    print('유효하지 않은 상품 코드입니다.')"
      ],
      "metadata": {
        "colab": {
          "base_uri": "https://localhost:8080/"
        },
        "id": "1SLLxOv4YB00",
        "outputId": "37ba53eb-11aa-4d14-c6bc-90768524bf33"
      },
      "execution_count": 19,
      "outputs": [
        {
          "output_type": "stream",
          "name": "stdout",
          "text": [
            "유효한 상품 코드입니다.\n"
          ]
        }
      ]
    },
    {
      "cell_type": "markdown",
      "source": [
        "re.search()"
      ],
      "metadata": {
        "id": "W0iWRNAiYW1E"
      }
    },
    {
      "cell_type": "markdown",
      "source": [
        "콜라나 그 밖 다른 물건을 찾을 때 문구가 다를 수 있다.\n",
        "\n",
        "이때 핵심 단어인 '콜라'가 있는지 유무를 판단할 때 좋다."
      ],
      "metadata": {
        "id": "qlTThspAYrIO"
      }
    },
    {
      "cell_type": "code",
      "source": [
        "import re\n",
        "user_input = '콜라를 찾고 있어요.'\n",
        "if re.search('콜라', user_input):\n",
        "    print('콜라를 찾았습니다. 상품 표시합니다.')\n",
        "\n",
        "else:\n",
        "    print('찾으시는 상품이 없습니다.')"
      ],
      "metadata": {
        "colab": {
          "base_uri": "https://localhost:8080/"
        },
        "id": "wVu2fop5ZJos",
        "outputId": "dff556fd-30db-495a-d250-968c541c3a66"
      },
      "execution_count": 20,
      "outputs": [
        {
          "output_type": "stream",
          "name": "stdout",
          "text": [
            "콜라를 찾았습니다. 상품 표시합니다.\n"
          ]
        }
      ]
    },
    {
      "cell_type": "markdown",
      "source": [
        "콜라를 찾는다는 사용자의 입력값이 있어서 콜라 상품을 표시할 수 있다."
      ],
      "metadata": {
        "id": "Ab4bdyYQZdf-"
      }
    },
    {
      "cell_type": "markdown",
      "source": [
        "re.findall()\n",
        "\n",
        "상품 설명에서 다양한 숫자 정보를 찾아볼 수 있다."
      ],
      "metadata": {
        "id": "xb6i2wokbsnu"
      }
    },
    {
      "cell_type": "code",
      "source": [
        "import re\n",
        "product_description = '콜라 상품은 2500원에 판매되며, 현재 500개가 재고가 있습니다.'\n",
        "numbers = re.findall('\\d+', product_description)\n",
        "print(f'가격: {numbers[0]}원, 재고: {numbers[1]}개')"
      ],
      "metadata": {
        "colab": {
          "base_uri": "https://localhost:8080/"
        },
        "id": "KgZIkCn2bzV-",
        "outputId": "2e0cc6c8-6f89-42e5-dfad-e3e731d01234"
      },
      "execution_count": 23,
      "outputs": [
        {
          "output_type": "stream",
          "name": "stdout",
          "text": [
            "가격: 2500원, 재고: 500개\n"
          ]
        }
      ]
    },
    {
      "cell_type": "markdown",
      "source": [
        "re.sub()\n",
        "\n",
        "상품 설명에서 특정 단어를 다른 단어로 바꿀 수 있다.\n",
        "\n",
        "예를들어, 상품 정보에 대한 설명을 할 때 기본 템플릿을 설정해 둔 후 물건명만 변경해서 사용할 때 사용할 수 있다."
      ],
      "metadata": {
        "id": "e4ihwu9kcY-m"
      }
    },
    {
      "cell_type": "code",
      "source": [
        "import re\n",
        "product_description = '상품은(는), 2500원에 판매되며, 현재 500개의 재고가 있습니다.'\n",
        "new_description = re.sub('상품', '콜라', product_description)\n",
        "print(new_description)"
      ],
      "metadata": {
        "colab": {
          "base_uri": "https://localhost:8080/"
        },
        "id": "zg6RKfkhdvCl",
        "outputId": "c80e7bfd-bcf7-47e7-abf1-202260bbf7d5"
      },
      "execution_count": 24,
      "outputs": [
        {
          "output_type": "stream",
          "name": "stdout",
          "text": [
            "콜라은(는), 2500원에 판매되며, 현재 500개의 재고가 있습니다.\n"
          ]
        }
      ]
    },
    {
      "cell_type": "code",
      "source": [],
      "metadata": {
        "id": "QF5DKVdVfnet"
      },
      "execution_count": null,
      "outputs": []
    }
  ]
}